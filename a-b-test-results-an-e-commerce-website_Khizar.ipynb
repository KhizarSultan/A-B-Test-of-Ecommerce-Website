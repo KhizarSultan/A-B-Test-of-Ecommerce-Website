{
 "cells": [
  {
   "cell_type": "markdown",
   "metadata": {
    "_uuid": "999435428ab160c531fc9ec88b9a132c5d5a4182"
   },
   "source": [
    "## A/B Test Results an e-commerce website\n",
    "\n",
    "\n",
    "\n",
    "## Table of Contents\n",
    "- [Introduction](#intro)\n",
    "- [Part I Wrangle data & Exploratory Data Analysis](#wrangle)\n",
    "- [Part II A/B Test](#ab_test)\n",
    "- [Part III Regression](#regression)\n",
    "- [Conclusion](#conclusion)\n",
    "\n",
    "<a id='intro'></a>\n",
    "### Introduction\n",
    "\n",
    " For this project, I will be working to understand the results of an A/B test run by an e-commerce website. My goal is to help the company understand if they should implement the new page, keep the old page, or perhaps run the experiment longer to make their decision."
   ]
  },
  {
   "cell_type": "markdown",
   "metadata": {
    "_uuid": "93c74b27199d93c7c598646a754981380fb58ec2"
   },
   "source": [
    "<img src=\"https://i.imgur.com/UoJrYZQ.png\"/>\n"
   ]
  },
  {
   "cell_type": "markdown",
   "metadata": {
    "_uuid": "ee42fdebb26fcceb2a570c37076351be3e00efc7"
   },
   "source": [
    "<a id='wrangle'></a>\n",
    "#### Part I - Wrangle data & Exploratory Data Analysis\n",
    "\n",
    "To get started, let's import our libraries."
   ]
  },
  {
   "cell_type": "code",
   "execution_count": null,
   "metadata": {
    "_uuid": "30c58a2abb9577e5668d41514a9f3c0d9cc68927"
   },
   "outputs": [],
   "source": [
    "import pandas as pd\n",
    "import numpy as np\n",
    "import random\n",
    "import matplotlib.pyplot as plt\n",
    "%matplotlib inline\n",
    "from sklearn.linear_model import LogisticRegression\n",
    "from sklearn.metrics import confusion_matrix, precision_score, recall_score, accuracy_score\n",
    "from sklearn.model_selection import train_test_split\n",
    "import statsmodels.api as sm\n",
    "from scipy.stats import norm"
   ]
  },
  {
   "cell_type": "code",
   "execution_count": null,
   "metadata": {
    "_uuid": "631f2280b5490c282291661bb19ee9df3ff3a70b"
   },
   "outputs": [],
   "source": [
    "# Read in the dataset and take a look at the top few rows\n",
    "df = pd.read_csv('../input/ab_data.csv')\n",
    "df.head()"
   ]
  },
  {
   "cell_type": "code",
   "execution_count": null,
   "metadata": {
    "_uuid": "0c5e2424138fce4dfc4e8e9ddbb53c2a733c2652"
   },
   "outputs": [],
   "source": [
    "df.info()\n",
    "#The total of users is 294,478"
   ]
  },
  {
   "cell_type": "code",
   "execution_count": null,
   "metadata": {
    "_uuid": "91ac789cc81b2250909975e5df3e1afbd041c463"
   },
   "outputs": [],
   "source": [
    "# check the number of unique users in the dataset.\n",
    "df.user_id.nunique()"
   ]
  },
  {
   "cell_type": "code",
   "execution_count": null,
   "metadata": {
    "_uuid": "d43ed963814121733417b4b27c31dcb3027935d4"
   },
   "outputs": [],
   "source": [
    "#Check the proportion of users converted\n",
    "p= df.query('converted == 1').user_id.nunique()/df.shape[0]\n",
    "\n",
    "print(\"The proportion of users converted is {0:.2%}\".format(p))"
   ]
  },
  {
   "cell_type": "code",
   "execution_count": null,
   "metadata": {
    "_uuid": "c5f773b7fbf212de3b3999c8541a2513e0a688fb"
   },
   "outputs": [],
   "source": [
    "# Check the number of times the new_page and treatment don't line up.\n",
    "l = df.query('(group == \"treatment\" and landing_page != \"new_page\" ) \\\n",
    "         or (group != \"treatment\" and landing_page == \"new_page\")').count()[0]\n",
    "print(\"The number of times the new_page and treatment don't line up is {}\".format(l))"
   ]
  },
  {
   "cell_type": "code",
   "execution_count": null,
   "metadata": {
    "_uuid": "9ce9a3f8a1d62c993689929e606fe1c6110fc770"
   },
   "outputs": [],
   "source": [
    "#Check missing values\n",
    "df.isnull().sum()"
   ]
  },
  {
   "cell_type": "markdown",
   "metadata": {
    "_uuid": "06aa5bb5f948fd2a9f9d44419119ea70c3845517"
   },
   "source": [
    "#### Note\n",
    "For the rows where **treatment** is not aligned with **new_page** or **control** is not aligned with **old_page**, we can not be sure if this row truly received the new or old page. So, I will drop these rows and create a new dataframe.  "
   ]
  },
  {
   "cell_type": "code",
   "execution_count": null,
   "metadata": {
    "_uuid": "015dfea75e9f1078740e964048f95cc52e30b64c"
   },
   "outputs": [],
   "source": [
    "df2 =df.drop(df.query('(group == \"treatment\" and landing_page != \"new_page\" ) \\\n",
    "                      or (group != \"treatment\" and landing_page == \"new_page\") or (group == \"control\" and landing_page != \"old_page\") or (group != \"control\" and landing_page == \"old_page\")').index)"
   ]
  },
  {
   "cell_type": "code",
   "execution_count": null,
   "metadata": {
    "_uuid": "89291f71c2ebb49509168d869db80b2299ad8264"
   },
   "outputs": [],
   "source": [
    "# Double Check all of the correct rows were removed \n",
    "df2[((df2['group'] == 'treatment') == (df2['landing_page'] == 'new_page')) == False].shape[0]"
   ]
  },
  {
   "cell_type": "code",
   "execution_count": null,
   "metadata": {
    "_uuid": "4afab2a1d99f14eebc1a6ad3fd5297e0b3666a12"
   },
   "outputs": [],
   "source": [
    "#Check the number of unique user_ids are in df2\n",
    "df2.user_id.nunique()"
   ]
  },
  {
   "cell_type": "code",
   "execution_count": null,
   "metadata": {
    "_uuid": "11d9fabcc60aea7efb1d8246193bb8341bea906c"
   },
   "outputs": [],
   "source": [
    "df2.head()"
   ]
  },
  {
   "cell_type": "code",
   "execution_count": null,
   "metadata": {
    "_uuid": "7fb4d4705e9904a8d2838a02960e9b5dc854a5f6"
   },
   "outputs": [],
   "source": [
    "df['landing_page'].value_counts().plot(kind='bar', figsize=(8,8));"
   ]
  },
  {
   "cell_type": "code",
   "execution_count": null,
   "metadata": {
    "_uuid": "21594df3b404bbc07813368d7b2bba6e26f7ce36"
   },
   "outputs": [],
   "source": [
    "df['landing_page'].value_counts().plot(kind='pie', figsize=(8,8));"
   ]
  },
  {
   "cell_type": "code",
   "execution_count": null,
   "metadata": {
    "_uuid": "39e31774d7d5ed0efc3bcd11a598ec56ea5a8679"
   },
   "outputs": [],
   "source": []
  },
  {
   "cell_type": "code",
   "execution_count": null,
   "metadata": {
    "_uuid": "4d11c1d33a2ab0e7bb2c5a637f37cb9db0f555ce"
   },
   "outputs": [],
   "source": [
    "lan_rev =df.groupby('landing_page').sum()['converted']\n",
    "\n",
    "ind = np.arange(len(lan_rev))  # the x locations for the groups\n",
    "width = 0.35  \n",
    "\n",
    "plt.subplots(figsize=(18,10))\n",
    "gen_bars =plt.bar(ind, lan_rev, width, color='g', alpha=.7)\n",
    "#adv_bars =plt.bar(ind, adv, width, color='b', alpha=.7, label=\"Adventure\")\n",
    "plt.ylabel('converted',size=14) # title and labels\n",
    "plt.xlabel('landing_page',size=14)\n",
    "plt.title('Conversion by landing_page',size=18)\n",
    "locations = ind + width / 2  # xtick locations\n",
    "labels = ['old_page', 'new_page']  # xtick labels\n",
    "plt.xticks(locations, labels)"
   ]
  },
  {
   "cell_type": "code",
   "execution_count": null,
   "metadata": {
    "_uuid": "6679aec820c6613251be49619c3bca8101e4f1c9"
   },
   "outputs": [],
   "source": [
    "#Check duplicates rows\n",
    "df2.user_id.duplicated().sum()"
   ]
  },
  {
   "cell_type": "code",
   "execution_count": null,
   "metadata": {
    "_uuid": "1501d6acf960bc378d14437560d9ca2f695d18db"
   },
   "outputs": [],
   "source": [
    "#Check the repeated user_id\n",
    "df2[df2.duplicated(['user_id'],keep=False)]['user_id']\n",
    "print(\"The user_id repeated is 773192\")"
   ]
  },
  {
   "cell_type": "code",
   "execution_count": null,
   "metadata": {
    "_uuid": "b04ca8597d320ab5bebc6a439dc93e328fb282ce"
   },
   "outputs": [],
   "source": [
    "# Check the row information for the repeat user_id\n",
    "df2.query('user_id == 773192')"
   ]
  },
  {
   "cell_type": "code",
   "execution_count": null,
   "metadata": {
    "_uuid": "98d0c2511b4b8f592423bb85ea89ca28e05ee9f9"
   },
   "outputs": [],
   "source": [
    "#Remove the duplicated rows\n",
    "df2 = df2.drop(df2.query('user_id == 773192 and timestamp == \"2017-01-09 05:37:58.781806\"').index)"
   ]
  },
  {
   "cell_type": "code",
   "execution_count": null,
   "metadata": {
    "_uuid": "5a90b5ce24af3393177f4f6df4031f8aa387c6bd"
   },
   "outputs": [],
   "source": [
    "#Check if there is any repeated user_id \n",
    "df2.user_id.duplicated().sum()"
   ]
  },
  {
   "cell_type": "code",
   "execution_count": null,
   "metadata": {
    "_uuid": "d64f1c9b9acbdb3a6bd4e51e04e593366640b738"
   },
   "outputs": [],
   "source": [
    "# Calculate the probability of an individual converting regardless of the page they receive\n",
    "df_prob =df2.query('converted == 1').user_id.nunique()/df2.user_id.nunique()\n",
    "df_prob\n",
    "\n",
    "print(\"The probability of an individual converting regardless of the page they receive is {0:.2%}\".format(df_prob))"
   ]
  },
  {
   "cell_type": "code",
   "execution_count": null,
   "metadata": {
    "_uuid": "7367a0881a58d25215a43def4a8e54b175c17b22"
   },
   "outputs": [],
   "source": [
    "# Calculate the probabilty the individual was in the control group to convert\n",
    "p_cont = df2.query('converted == 1 and group == \"control\"').user_id.nunique() \\\n",
    "/df2.query('group == \"control\"').user_id.nunique()\n",
    "\n",
    "print(\"The probability they converted based on control group is {0:.2%}\".format(p_cont))"
   ]
  },
  {
   "cell_type": "code",
   "execution_count": null,
   "metadata": {
    "_uuid": "b69ed85070c375f82aa5110a8eeecfcfcc2daaad"
   },
   "outputs": [],
   "source": [
    "# Calculate the probabilty the individual was in the treatment group to convert\n",
    "p_treat = df2.query('converted == 1 and group == \"treatment\"').user_id.nunique() \\\n",
    "/df2.query('group == \"treatment\"').user_id.nunique()\n",
    "\n",
    "print(\"The probability they converted based on treatment group is {0:.2%}\".format(p_treat))"
   ]
  },
  {
   "cell_type": "code",
   "execution_count": null,
   "metadata": {
    "_uuid": "b4d333de0d4d2f92af16af8e4bebc6cdb9cd87a9"
   },
   "outputs": [],
   "source": [
    "# Calculate the probabilty that an individual received the new page\n",
    "p_n = df2.query('landing_page == \"new_page\"').user_id.nunique()/df2.user_id.nunique()\n",
    "#The probability that an individual received the new page is 50.00%\n",
    "print(\"The probability that an individual received the new page is {0:.2%}\".format(p_n))"
   ]
  },
  {
   "cell_type": "markdown",
   "metadata": {
    "_uuid": "2983971bc768742bdbed359305aaa526415d396a"
   },
   "source": [
    "### Probability results\n",
    ">It seems to be that there is insufficient evidence to say that the new treatment page leads to more conversions than the control page. The difference of probability between control (12.04%) and treatment groups (11.88%) is tiny, especially when we compare them with the probability of individual conversion (11.96%)"
   ]
  },
  {
   "cell_type": "markdown",
   "metadata": {
    "_uuid": "5ac9007b2b5d38d7259aa792d5376f9f94f1b871"
   },
   "source": [
    "<a id='ab_test'></a>\n",
    "### Part II - A/B Test\n",
    "\n",
    "Since we do not have  sufficient evidence to say that the new treatment page leads to more conversions than the control page with probability tests, I will run a hypothesis test continuously as each observation was observed with the time stamp associated with each event. \n",
    " \n",
    "`1.`I will consider making the decision only based on all the data provided. Further, I want to assume that the old page is better unless the new page proves to be definitely better at a Type I error rate of 5%. The null and alternative hypotheses follow below:\n",
    "\n",
    "> $$H_0:  P_{new} - P_{old}  \\leq  0$$\n",
    "\n",
    "\n",
    "> $$H_1: P_{new} - P_{old} > 0$$"
   ]
  },
  {
   "cell_type": "markdown",
   "metadata": {
    "_uuid": "16afe67943ec1357ae44cfafc50f1fc8adf3ec82"
   },
   "source": [
    "`2.` I will assume under the null hypothesis, $p_{new}$ and $p_{old}$ both have \"true\" success rates equal to the **converted** success rate regardless of page -- that is $p_{new}$ and $p_{old}$ are equal. Furthermore, I will assume they are equal to the **converted** rate in **ab_data.csv** regardless of the page. <br><br>\n",
    "\n",
    "I wil use a sample size for each page equal to the ones in **ab_data.csv**.  <br><br>\n",
    "\n",
    "I will perform the sampling distribution for the difference in **converted** between the two pages over 10,000 iterations of calculating an estimate from the null.  <br><br>"
   ]
  },
  {
   "cell_type": "code",
   "execution_count": null,
   "metadata": {
    "_uuid": "1c2da83e3ae65fa539d10f96caa32036bc26cc3d"
   },
   "outputs": [],
   "source": [
    "# Since P_new and P_old both have \"true\" success rates equally, their converted rate \n",
    "#will have the same result.\n",
    "p_new = df2.converted.mean()\n",
    "\n",
    "print(\"The convert rate for p_new under the null is {0:.4}\".format(p_new))"
   ]
  },
  {
   "cell_type": "code",
   "execution_count": null,
   "metadata": {
    "_uuid": "925f44561c6a0d0b40af72272656a966b79049c2"
   },
   "outputs": [],
   "source": [
    "# Since P_new and P_old both have \"true\" success rates equally, their converted rate \n",
    "#will have the same result.\n",
    "p_old = df2.converted.mean()\n",
    "\n",
    "print(\"The convert rate for p_old under the null is {0:.4}\".format(p_old))"
   ]
  },
  {
   "cell_type": "code",
   "execution_count": null,
   "metadata": {
    "_uuid": "9a18df40915647b25f523b0b4ac689dde32c8596"
   },
   "outputs": [],
   "source": [
    "# Count the total unique users with new page\n",
    "n_new = df2.query('landing_page == \"new_page\" ').count()[0]\n",
    "n_new"
   ]
  },
  {
   "cell_type": "code",
   "execution_count": null,
   "metadata": {
    "_uuid": "3193934dd51b1bb0113b4210974dcd31db73d27f"
   },
   "outputs": [],
   "source": [
    "# Count the total unique users with old page\n",
    "n_old = df2.query('landing_page == \"old_page\" ').count()[0]\n",
    "n_old"
   ]
  },
  {
   "cell_type": "code",
   "execution_count": null,
   "metadata": {
    "_uuid": "e556fe469f1e98b722aa629e9c0a95415a7a9bdf"
   },
   "outputs": [],
   "source": [
    "#Simulate n_new transactions with a convertion rate of  p_new under the null. \n",
    "#Store these n_new 1's and 0's in new_page_converted\n",
    "\n",
    "new_page_converted = np.random.choice([0,1],n_new, p=(p_new,1-p_new))\n",
    "new_page_converted"
   ]
  },
  {
   "cell_type": "code",
   "execution_count": null,
   "metadata": {
    "_uuid": "9673a6659e83b8f36ccfa69ef3ea9b4bb410cce1"
   },
   "outputs": [],
   "source": [
    "#Simulate n_new transactions with a convert rate of  p_old under the null. \n",
    "#Store these  n_new 1's and 0's in old_page_converted\n",
    "\n",
    "old_page_converted = np.random.choice([0,1],n_old, p=(p_old,1-p_old))\n",
    "old_page_converted"
   ]
  },
  {
   "cell_type": "code",
   "execution_count": null,
   "metadata": {
    "_uuid": "763fa7a2e1d31eada29c2e2e0f3832fb4342c6c4"
   },
   "outputs": [],
   "source": [
    "# Find the difference between p_new and p_old\n",
    "#For discovering the difference between p_new and p_old, it is necessary to find out the mean \n",
    "#of new_page_converted and old_page_converted.\n",
    "new_page_converted.mean()"
   ]
  },
  {
   "cell_type": "code",
   "execution_count": null,
   "metadata": {
    "_uuid": "64f782c183c2e5e049022f03270191e4d7288f5d"
   },
   "outputs": [],
   "source": [
    "old_page_converted.mean()"
   ]
  },
  {
   "cell_type": "code",
   "execution_count": null,
   "metadata": {
    "_uuid": "2d782016f70264778ebe66c4175cabb532815804"
   },
   "outputs": [],
   "source": [
    "#diff_conv is the difference between p_new and p_old.\n",
    "diff_conv = new_page_converted.mean() - old_page_converted.mean()\n",
    "diff_conv"
   ]
  },
  {
   "cell_type": "code",
   "execution_count": null,
   "metadata": {
    "_uuid": "1868c9c8280438b7a4a908f5d404af564b06c726"
   },
   "outputs": [],
   "source": [
    "# Simulate 10,000 p_new - p_old values with random binomial\n",
    "\n",
    "new_converted_simulation = np.random.binomial(n_new, p_new,  10000)/n_new\n",
    "old_converted_simulation = np.random.binomial(n_old, p_old,  10000)/n_old\n",
    "p_diffs = new_converted_simulation - old_converted_simulation"
   ]
  },
  {
   "cell_type": "code",
   "execution_count": null,
   "metadata": {
    "_uuid": "8cfe43206b225d55955d44e5bd893e7667031abc"
   },
   "outputs": [],
   "source": [
    "p_diffs = np.array(p_diffs)"
   ]
  },
  {
   "cell_type": "code",
   "execution_count": null,
   "metadata": {
    "_uuid": "c70b3ac818e1bbaca89a17d5b16f3ad73296d1b5"
   },
   "outputs": [],
   "source": [
    "plt.hist(p_diffs);"
   ]
  },
  {
   "cell_type": "code",
   "execution_count": null,
   "metadata": {
    "_uuid": "e83da25175c19d39fa9a0217355b8a5ba017feb1"
   },
   "outputs": [],
   "source": [
    "# Calculate actual difference observed\n",
    "new_convert = df2.query('converted == 1 and landing_page == \"new_page\"').count()[0]/n_new\n",
    "old_convert = df2.query('converted == 1 and landing_page == \"old_page\"').count()[0]/n_old\n",
    "obs_diff = new_convert - old_convert\n",
    "obs_diff"
   ]
  },
  {
   "cell_type": "code",
   "execution_count": null,
   "metadata": {
    "_uuid": "f8a67fc57532588bcd9744e83052a371c4daf01d"
   },
   "outputs": [],
   "source": [
    "#Check the proportion of the p_diffs are greater than the actual difference observed in ab_data.\n",
    "null_vals = np.random.normal(0, p_diffs.std(), p_diffs.size)"
   ]
  },
  {
   "cell_type": "code",
   "execution_count": null,
   "metadata": {
    "_uuid": "82e62bf9055e4ca938b25d1557484b3c56931802"
   },
   "outputs": [],
   "source": [
    "plt.hist(null_vals);\n",
    "plt.axvline(x=obs_diff, color='red')"
   ]
  },
  {
   "cell_type": "code",
   "execution_count": null,
   "metadata": {
    "_uuid": "92137a06b8d7fcb10dd44779b1dad4bcba7ec62b"
   },
   "outputs": [],
   "source": [
    "(null_vals > obs_diff).mean()"
   ]
  },
  {
   "cell_type": "markdown",
   "metadata": {
    "_uuid": "8fd2b64897a921a4f00a51bca93184368e128a05"
   },
   "source": [
    "#### Sampling distribution analysis\n",
    "\n",
    ">1- The proportion of the conversion rate differences were greater than the actual observed difference. The p-value is extremely large (90%) than the type I error rate (5%).That means we fail to reject the null hypothesis.  \n",
    "\n",
    ">2- According to Wikipedia, p-value is the probability for a given statistical model that, when the null hypothesis is true, the statistical summary (such as the sample mean difference between two compared groups) would be the same as or of greater magnitude than the actual observed results.\n",
    "\n",
    ">3- When the p-value is low (in this project less than 5%), it suggests that the null hypothesis is not true, and we need to consider the alternative hypothesis. Finally, the p-value of 90% indicates that the actual page should be maintained."
   ]
  },
  {
   "cell_type": "markdown",
   "metadata": {
    "_uuid": "8e388bb48cd5781eda469d272ebb83f7a8a58fe7"
   },
   "source": [
    "`3.` Now, I will use  stats.proportions_ztest to compute my test statistic and p-value for evaluating if there is a statistically significance difference in conversion rates of the new page and the conversion rates of the old page.\n",
    "\n",
    "First, I will calculate the number of conversions for each page, as well as the number of individuals who received each page. The `n_old` and `n_new` refer the the number of rows associated with the old page and new pages, respectively."
   ]
  },
  {
   "cell_type": "code",
   "execution_count": null,
   "metadata": {
    "_uuid": "1c9d8328fd6ddac9fe45424cba1e9bbfe1829b7f"
   },
   "outputs": [],
   "source": [
    "convert_old = df2.query('converted == 1 and landing_page == \"old_page\"').count()[0]\n",
    "convert_new = df2.query('converted == 1 and landing_page == \"new_page\"').count()[0]\n",
    "n_old = df2.query('landing_page == \"old_page\" ').count()[0]\n",
    "n_new = df2.query('landing_page == \"new_page\" ').count()[0]"
   ]
  },
  {
   "cell_type": "code",
   "execution_count": null,
   "metadata": {
    "_uuid": "4430c39c51a0087bf927d389e14abb785653c3ba"
   },
   "outputs": [],
   "source": [
    "convert_old,convert_new,n_old,n_new"
   ]
  },
  {
   "cell_type": "code",
   "execution_count": null,
   "metadata": {
    "_uuid": "6585c7e295063606ea462affb9a98db58f7806a7"
   },
   "outputs": [],
   "source": [
    "z_score, p_value = sm.stats.proportions_ztest(np.array([convert_new,convert_old]),\\\n",
    "                                              np.array([n_new,n_old]), alternative = 'larger')"
   ]
  },
  {
   "cell_type": "code",
   "execution_count": null,
   "metadata": {
    "_uuid": "58d3e02eb687ee88f513c33be9e146ce933570db"
   },
   "outputs": [],
   "source": [
    "z_score, p_value"
   ]
  },
  {
   "cell_type": "code",
   "execution_count": null,
   "metadata": {
    "_uuid": "c54ccaf77f9033e7fba2aefd5f5bc8bd5a76541b"
   },
   "outputs": [],
   "source": [
    "norm.cdf(z_score)\n",
    "#0.09494168724097551 # Tells us how significant our z-score is"
   ]
  },
  {
   "cell_type": "code",
   "execution_count": null,
   "metadata": {
    "_uuid": "dd82d27c29b0b92ab20ee83abab819e5609066e5"
   },
   "outputs": [],
   "source": [
    "norm.ppf(1-(0.05/2))\n",
    "# 1.959963984540054 # Tells us what our critical value at 96% confidence is"
   ]
  },
  {
   "cell_type": "markdown",
   "metadata": {
    "_uuid": "a71742bc5e9a6542385f4cd2e0ce51497354684e"
   },
   "source": [
    "#### Z-test analysis\n",
    ">Since the z-score of 1.31 does not exceed the critical value of 1.96, we fail to reject the null hypothesis. The conversion rates of the old page is greater than or equal to the conversion rates of the new. Moreover, there was not a significant difference between the conversion rates of the new page and the conversion rates of the old page (>0.15%)."
   ]
  },
  {
   "cell_type": "markdown",
   "metadata": {
    "_uuid": "1962ac2ce5e3b8099abc84abda0209ae93b9c20d"
   },
   "source": [
    "<a id='regression'></a>\n",
    "### Part III - A regression approach\n",
    "\n",
    "In this final part, I will confirm that the result acheived in the previous A/B test can also be acheived by performing logistic regression. I will use **statsmodels** to fit the regression model to see if there is a significant difference in conversion based on which page a customer receives. <br><br> "
   ]
  },
  {
   "cell_type": "code",
   "execution_count": null,
   "metadata": {
    "_uuid": "d9fd6c26507028ab8c2b257910f1e258fc14d821"
   },
   "outputs": [],
   "source": [
    "df2.head()"
   ]
  },
  {
   "cell_type": "code",
   "execution_count": null,
   "metadata": {
    "_uuid": "0655965a4394acd7943b1c69c607c187abf76d3c"
   },
   "outputs": [],
   "source": [
    "#Create intercept and dummies columns\n",
    "df2['intercept'] = 1\n",
    "df2[['ab_page','old_page']] = pd.get_dummies(df2['landing_page'])\n",
    "df2 = df2.drop('old_page', axis = 1)"
   ]
  },
  {
   "cell_type": "code",
   "execution_count": null,
   "metadata": {
    "_uuid": "36a224f05637c96271df9daf207cbb591ce90041"
   },
   "outputs": [],
   "source": [
    "df2.head()"
   ]
  },
  {
   "cell_type": "code",
   "execution_count": null,
   "metadata": {
    "_uuid": "623e211c836f2692344103b6bc2bea4948389aba"
   },
   "outputs": [],
   "source": [
    "#Create a model\n",
    "log = sm.Logit(df2['converted'], df2[['intercept', 'ab_page']])\n",
    "results = log.fit()\n",
    "results.summary()"
   ]
  },
  {
   "cell_type": "markdown",
   "metadata": {
    "_uuid": "5fca044c857902e0aaea4de4655d25c72d081c66"
   },
   "source": [
    "#### Regression analysis I\n",
    "1- The **p-value** associated with ab_page is 0.19 and the **p-value** in **Part II** was 0.90. So, in both cases, we fail to reject the null hyphothesis because these two p-values are greater than 0.05(Type Error I).\n",
    "\n",
    "2- The difference lies in what each test assumes for their hypothesis. In Part II, the hyphothesis is to analyze if the old page is better unless the new page proves to be definitely greater at a Type I error rate of 5%. In other words,we were concerned with which page had a higher conversion rate, so a one-tailed test. While in the Part III hyphotheses, there is a significant difference in conversion based on which page a customer receives.  The nature of a regression test is not concerned with which had a positive or negative change, specifically. It is concerned with if the condition had any effect at all, so a two-tailed test."
   ]
  },
  {
   "cell_type": "markdown",
   "metadata": {
    "_uuid": "536e6c1f42f7ec565632dde30bbd1a926eba0bd1"
   },
   "source": [
    "#### Considering other things that might influence whether or not an individual converts.\n",
    "There are many aspects that may influence whether or not an individual converts. For instance, we could consider factors as country, age, gender, city, hour or weekday and try to understand the correlation between them and the effects under the two groups. Another thing to deal with is the Simpson's paradox, in which a trend appears in several different groups of data, but disappears or reverses when these groups are combined. It is sometimes given the descriptive title of reversal paradox or amalgamation paradox."
   ]
  },
  {
   "cell_type": "markdown",
   "metadata": {
    "_uuid": "0f74e048a0f95c0990bf1a9316798c76ed404bef"
   },
   "source": [
    "#### Regression approach II (add countries)\n",
    "Now, I will analyze if the countries have an impact on conversion. So, I will along with testing if the conversion rate changes for different pages, also add an effect based on which country a user lives. I will read in the **countries.csv** dataset and merge together my datasets on the approporiate rows. "
   ]
  },
  {
   "cell_type": "code",
   "execution_count": null,
   "metadata": {
    "_uuid": "527ece694154ee3c81bd8e97cfd7c7344bd12d4d"
   },
   "outputs": [],
   "source": [
    "countries_df = pd.read_csv('../input/countries.csv')\n"
   ]
  },
  {
   "cell_type": "code",
   "execution_count": null,
   "metadata": {
    "_uuid": "b13b6062d37de432ee0f47323622f860fb83e859"
   },
   "outputs": [],
   "source": [
    "#Merge the countries data frame with df2\n",
    "df3 = df2.merge(countries_df, on='user_id', how='inner')\n",
    "df3.head()"
   ]
  },
  {
   "cell_type": "code",
   "execution_count": null,
   "metadata": {
    "_uuid": "82c2f7a406a47f0cabe5fb25ba6592290c61c871"
   },
   "outputs": [],
   "source": [
    "df3.country.unique()"
   ]
  },
  {
   "cell_type": "code",
   "execution_count": null,
   "metadata": {
    "_uuid": "32222b70c4dd54007c44124f24643eaa8a114068"
   },
   "outputs": [],
   "source": [
    "### Create the necessary dummy variables\n",
    "df3[['US', 'CA', 'UK']] = pd.get_dummies(df3['country'])\n",
    "df3 = df3.drop(['country', 'US'], axis = 1)"
   ]
  },
  {
   "cell_type": "code",
   "execution_count": null,
   "metadata": {
    "_uuid": "4592d9fe4f314073025f4edcf341dc3ee9c0f2a1"
   },
   "outputs": [],
   "source": [
    "df3.head()"
   ]
  },
  {
   "cell_type": "code",
   "execution_count": null,
   "metadata": {
    "_uuid": "6e7e1ea5ed9519a703b54a3f986d8ad5710b1d41"
   },
   "outputs": [],
   "source": [
    "#Print Summary\n",
    "log2 = sm.Logit(df3['converted'], df3[['intercept','ab_page','CA','UK']])\n",
    "results2 = log2.fit()\n",
    "results2.summary()"
   ]
  },
  {
   "cell_type": "code",
   "execution_count": null,
   "metadata": {
    "_uuid": "32f1a2f3c4b7c655b41b85438f1d6a493875202e"
   },
   "outputs": [],
   "source": [
    "# For better visualizing the coef, we exponentiated them with numpy.\n",
    "1/np.exp(-0.0149),np.exp(0.0408), np.exp(0.0506)"
   ]
  },
  {
   "cell_type": "markdown",
   "metadata": {
    "_uuid": "c826289ab2e232dbe15ea338714bda3d79c95978"
   },
   "source": [
    "#### Regression analysis II\n",
    "\n",
    ">For each 1 unit decrease in new_page, convert is 1.5 times as likely holding all else constant.\n",
    "\n",
    ">For each 1 unit increase in CA, convert is 4.1 times as likely holding all else constant.\n",
    "\n",
    ">For each 1 unit increase in UK, convert is 5.2 times as likely holding all else constant."
   ]
  },
  {
   "cell_type": "markdown",
   "metadata": {
    "_uuid": "a32202c280c6d7463e7aee874d00054a85242c07"
   },
   "source": [
    "Regression approach III (interaction between page and country)\n",
    "\n",
    "Now, I will look at an interaction between page and country to see if there significant effects on conversion.  "
   ]
  },
  {
   "cell_type": "code",
   "execution_count": null,
   "metadata": {
    "_uuid": "ad8b52b21849ed639625cf64fa549e058ee44d1d"
   },
   "outputs": [],
   "source": [
    "df3.head()"
   ]
  },
  {
   "cell_type": "code",
   "execution_count": null,
   "metadata": {
    "_uuid": "14dfc2eeac0e75ab55a1c7868839b4b832d4be01"
   },
   "outputs": [],
   "source": [
    "#For understanding the interaction between page and country we need two create \n",
    "#two columns that multiple ab_page to the country.\n",
    "\n",
    "df3['CA_new_page']=df3['ab_page']*df3['CA']\n",
    "df3['UK_new_page']=df3['ab_page']*df3['UK']"
   ]
  },
  {
   "cell_type": "code",
   "execution_count": null,
   "metadata": {
    "_uuid": "45bda7f0c0da78bf09f7a9ee6e70be4f0f1b16c6"
   },
   "outputs": [],
   "source": [
    "df3.head()"
   ]
  },
  {
   "cell_type": "code",
   "execution_count": null,
   "metadata": {
    "_uuid": "9f4d2cf61e2131e80e5a0b84a16e047eb833cf3d"
   },
   "outputs": [],
   "source": [
    "### Print Summary\n",
    "log3 = sm.Logit(df3['converted'], df3[['intercept', 'ab_page', 'CA', 'UK','CA_new_page','UK_new_page']])"
   ]
  },
  {
   "cell_type": "code",
   "execution_count": null,
   "metadata": {
    "_uuid": "2e202013fcc7fad15dfe2f587fe5e2b58f414a50"
   },
   "outputs": [],
   "source": [
    "results3 = log3.fit()\n",
    "results3.summary()"
   ]
  },
  {
   "cell_type": "code",
   "execution_count": null,
   "metadata": {
    "_uuid": "5e9749a38710b490746e27a132fb4d05acc43070"
   },
   "outputs": [],
   "source": [
    "# For better visualizing the coef, we exponentiated them with numpy.\n",
    "1/np.exp(-0.0674),np.exp(0.0118), np.exp(0.0175),np.exp(0.0783),np.exp(0.0469)"
   ]
  },
  {
   "cell_type": "markdown",
   "metadata": {
    "_uuid": "0be1aec8a917cb58605b9175a0614ca9713b3cc1"
   },
   "source": [
    "#### Regression analysis III\n",
    "\n",
    ">For each 1 unit decrease in new_page, convert is 1.5 times as likely holding all else constant.\n",
    "\n",
    ">For each 1 unit increase in CA, convert is 1.2 times as likely holding all else constant.\n",
    "\n",
    ">For each 1 unit increase in UK, convert is 1.7 times as likely holding all else constant.\n",
    "\n",
    ">For each 1 unit increase in CA new_page, convert is 8.1 times as likely holding all else constant.\n",
    "\n",
    ">For each 1 unit increase in UK new_page, convert is 4.8 times as likely holding all else constant."
   ]
  },
  {
   "cell_type": "code",
   "execution_count": null,
   "metadata": {
    "_uuid": "cf04200781b526c4bd139988e3dbcdf74cf979ed"
   },
   "outputs": [],
   "source": [
    "X = df3[['CA','UK','CA_new_page','UK_new_page']]\n",
    "y = df3['converted']\n",
    "X_train, X_test, y_train, y_test = train_test_split(X, y, test_size=0.20, random_state=0)"
   ]
  },
  {
   "cell_type": "code",
   "execution_count": null,
   "metadata": {
    "_uuid": "b1416484707ae5d71245f0a357fa0c714dbed922"
   },
   "outputs": [],
   "source": [
    "log_mod = LogisticRegression()\n",
    "log_mod.fit(X_train, y_train)\n",
    "preds = log_mod.predict(X_test)\n",
    "confusion_matrix(y_test, preds)"
   ]
  },
  {
   "cell_type": "code",
   "execution_count": null,
   "metadata": {
    "_uuid": "005b573a8b32d649bdd58a4c550e08a40b6e58fc"
   },
   "outputs": [],
   "source": [
    "accuracy_score(y_test, preds)"
   ]
  },
  {
   "cell_type": "markdown",
   "metadata": {
    "_uuid": "2e66daed8ef8a4cb437a5cf4e68f844a48090ef3"
   },
   "source": [
    "<a id='conclusion'></a>\n",
    "### Conclusion\n",
    "\n",
    "The work described in this notebook is based on a database providing details on the conversion rate of two groups(treatment group that holds the new page and control group that holds the old page), on an E-commerce platform from 2017-01-02 to 2017-01-24. The goal was to decide whether the E-commerce website should keep the old page or change to a new. \n",
    "\n",
    "Regarding the quality of the data, we had only 1 row duplicated in a sample with 294,478 rows. So, that problem did not affect the results.  \n",
    "\n",
    "To achieve our goal, we performed the following tests: A/B test with z-test and logistic regression models. In A/B test, we found the p-value is higher than type error I, and because this, we fail to reject the null hyphotesis. Then, we saw the z-score was 1.31 which does not exceed the critical value of 1.96, so we fail again to reject the null hyphothesis. \n",
    "\n",
    "After that, we used stasmodels to fit the regression model and we found there is a significant difference in conversion based on which page a customer receives. In the first experiment with regression, we analyzed the individual factors of country and page on conversion. \n",
    "\n",
    "The coefficient of our explanatory variables presented the following results: For each 1 unit decrease in new_page, conversion is 1.5 times as likely holding all else constant; For each 1 unit increase in CA, conversion is 4.1 times as likely holding all else constant; For each 1 unit increase in UK, conversion is 5.2 times as likely holding all else constant. In the last test we interpreted interaction between page and country to see if there significant effects on conversion, we discovered the following results: For each 1 unit increase in CA new_page, conversion is 8.1 times as likely holding all else constant. For each 1 unit increase in UK new_page, conversion is 4.8 times as likely holding all else constant.\n",
    "\n",
    "Finally, I strongly recommend gathering more data per period of at least 4 months. I consider the period of 22 days insufficient for making the decision about whether we should keep the old page or change to the new page, even if all tests indicated that we should keep the old one. "
   ]
  }
 ],
 "metadata": {
  "kernelspec": {
   "display_name": "Python 3",
   "language": "python",
   "name": "python3"
  },
  "language_info": {
   "codemirror_mode": {
    "name": "ipython",
    "version": 3
   },
   "file_extension": ".py",
   "mimetype": "text/x-python",
   "name": "python",
   "nbconvert_exporter": "python",
   "pygments_lexer": "ipython3",
   "version": "3.7.3"
  }
 },
 "nbformat": 4,
 "nbformat_minor": 1
}
